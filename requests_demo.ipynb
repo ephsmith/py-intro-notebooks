{
 "cells": [
  {
   "cell_type": "code",
   "execution_count": 39,
   "id": "b115c514",
   "metadata": {},
   "outputs": [],
   "source": [
    "import requests\n",
    "import sys"
   ]
  },
  {
   "cell_type": "markdown",
   "id": "94f4e964",
   "metadata": {},
   "source": [
    "# Querying a Web API with Python and `requests`"
   ]
  },
  {
   "cell_type": "markdown",
   "id": "fb2eb1dc",
   "metadata": {},
   "source": [
    "## Installing Requests\n",
    "Install the requests package using the name `requests`:\n",
    "\n",
    "```python\n",
    "python -m pip install requests # windows\n",
    "python3 -m pip install requests # all other OSes\n",
    "```"
   ]
  },
  {
   "cell_type": "code",
   "execution_count": 5,
   "id": "ecacd950",
   "metadata": {},
   "outputs": [],
   "source": [
    "# Base URL is a template string which \n",
    "# is helpful for adding categories to the URL\n",
    "URL = \"https://v2.jokeapi.dev/joke/{}\"\n",
    "\n",
    "# Available URL Query Parameters\n",
    "\n",
    "# desired response format\n",
    "format = ('json', 'xml', 'yaml', 'txt')\n",
    "\n",
    "# filter out jokes flagged as...\n",
    "blacklistFlags = (\n",
    "    \"nsfw\", \"religious\", \"political\", \"racist\",\n",
    "    \"sexist\", \"explicit\"\n",
    ")\n",
    "\n",
    "# Lang code: Joke language (these are available)\n",
    "lang = (\"cs\", \"de\", \"en\", \"es\", \"fr\", \"pt\")\n",
    "\n",
    "# Joke type\n",
    "type = (\"single\", \"twopart\")\n",
    "\n",
    "# contains: case sensitive keyword (search term)\n",
    "\n",
    "# idRange=number[-number]: limited by the range of jokes\n",
    "\n",
    "# amount: how many jokes should be included in the response\n",
    "\n",
    "# categories: note that this must be added to the URL\n",
    "# If more than one category is desired, separate them\n",
    "# with commas (e.g. ','.join(categories))\n",
    "categories = (\n",
    "    \"Any\", \"Misc\", \"Programming\", \"Dark\"\n",
    "    \"Pun\", \"Spooky\", \"Christmas\",\n",
    ")"
   ]
  },
  {
   "cell_type": "markdown",
   "id": "28549176",
   "metadata": {},
   "source": [
    "## Example Usage\n",
    "For this example, we will request a single joke with the following attributes:\n",
    "- category: Pun\n",
    "- lang: English (en)\n",
    "- type: single\n",
    "- blacklistFlags: all flags\n",
    "\n",
    "### Prepare Query\n",
    "- The requests library will convert a dictionary to the appropriate URL-encoded query string *and* append the query to the URL.\n",
    "- The API endpoint URL must be modified explicitly to add one or more categories."
   ]
  },
  {
   "cell_type": "code",
   "execution_count": 19,
   "id": "ea80590d",
   "metadata": {},
   "outputs": [],
   "source": [
    "category = \"Pun\"\n",
    "query = {\n",
    "    \"format\": \"json\",\n",
    "    \"blacklistFlags\": ','.join(blacklistFlags),\n",
    "    \"lang\": \"en\",\n",
    "    \"type\": \"single\",\n",
    "    \"amount\": 1,\n",
    "}\n",
    "\n",
    "url = URL.format(category)"
   ]
  },
  {
   "cell_type": "markdown",
   "id": "8368cff0",
   "metadata": {},
   "source": [
    "### Make the Request\n",
    "- The Joke API endpoint we are using accepts `GET` requests. Use `requests.get()`\n",
    "- `requests.get()` accepts a dictionary passed as the keyword argument `params`. "
   ]
  },
  {
   "cell_type": "code",
   "execution_count": 20,
   "id": "030fb63d",
   "metadata": {},
   "outputs": [],
   "source": [
    "response = requests.get(url, params=query)"
   ]
  },
  {
   "cell_type": "markdown",
   "id": "6ab65901",
   "metadata": {},
   "source": [
    "### Check the Response Status\n",
    "The response will contain a *status code*.  The Joke API responds with one of the following. Ideally, this will be `200`, but be prepared for other response codes. Anything other than `200` means that something went wrong.  The response will *not* contain a joke in this case.\n",
    "\n",
    "- 200: OK\n",
    "- 400: Bad Request\n",
    "- 403: Forbidden\n",
    "- 404: Not Found\n",
    "- 413: Payload too large (must be less than 5120 Bytes)\n",
    "- 414: URI too long (URI/URL must be <250 characters)\n",
    "- 429: Too Many requests (limited to 120 / minute)\n",
    "- 500: Internal Server Error\n",
    "- 529: Origin Unreachagble (server offline)\n",
    "\n",
    "Use `response.raise_for_status()` to raise errors in the 4xx-5xx range. Since this will raise an error if it occurred, there really is no reason to check the status afterward."
   ]
  },
  {
   "cell_type": "code",
   "execution_count": 21,
   "id": "d9040412",
   "metadata": {},
   "outputs": [
    {
     "name": "stdout",
     "output_type": "stream",
     "text": [
      "{\n",
      "    \"error\": false,\n",
      "    \"category\": \"Pun\",\n",
      "    \"type\": \"single\",\n",
      "    \"joke\": \"Today, my son asked \\\"Can I have a book mark?\\\" and I burst into tears.\\n11 years old and he still doesn't know my name is Brian.\",\n",
      "    \"flags\": {\n",
      "        \"nsfw\": false,\n",
      "        \"religious\": false,\n",
      "        \"political\": false,\n",
      "        \"racist\": false,\n",
      "        \"sexist\": false,\n",
      "        \"explicit\": false\n",
      "    },\n",
      "    \"id\": 200,\n",
      "    \"safe\": true,\n",
      "    \"lang\": \"en\"\n",
      "}\n"
     ]
    }
   ],
   "source": [
    "# Raise an error if it occurred\n",
    "response.raise_for_status()\n",
    "\n",
    "# inspect the response\n",
    "print(response.text)"
   ]
  },
  {
   "cell_type": "markdown",
   "id": "b9f2a5b6",
   "metadata": {},
   "source": [
    "### Inspecting the Response Text\n",
    "The response text is a JSON string.  Typically, in a program, we prefer to convert this to a dictionary. \n",
    "\n",
    "### Convert the Response to `dict`\n",
    "Use the `.json()` method of the response object to get a dictionary with the response."
   ]
  },
  {
   "cell_type": "code",
   "execution_count": 24,
   "id": "3cd99b88",
   "metadata": {},
   "outputs": [],
   "source": [
    "joke_dict = response.json()"
   ]
  },
  {
   "cell_type": "code",
   "execution_count": 25,
   "id": "722746b1",
   "metadata": {},
   "outputs": [
    {
     "name": "stdout",
     "output_type": "stream",
     "text": [
      "Today, my son asked \"Can I have a book mark?\" and I burst into tears.\n",
      "11 years old and he still doesn't know my name is Brian.\n"
     ]
    }
   ],
   "source": [
    "print(joke_dict['joke'])"
   ]
  },
  {
   "cell_type": "markdown",
   "id": "53fc54c0",
   "metadata": {},
   "source": [
    "### Get Another Joke\n"
   ]
  },
  {
   "cell_type": "code",
   "execution_count": 26,
   "id": "5081c525",
   "metadata": {},
   "outputs": [
    {
     "data": {
      "text/plain": [
       "{'error': False,\n",
       " 'category': 'Pun',\n",
       " 'type': 'single',\n",
       " 'joke': \"I'm reading a book about anti-gravity. It's impossible to put down!\",\n",
       " 'flags': {'nsfw': False,\n",
       "  'religious': False,\n",
       "  'political': False,\n",
       "  'racist': False,\n",
       "  'sexist': False,\n",
       "  'explicit': False},\n",
       " 'id': 126,\n",
       " 'safe': True,\n",
       " 'lang': 'en'}"
      ]
     },
     "execution_count": 26,
     "metadata": {},
     "output_type": "execute_result"
    }
   ],
   "source": [
    "response = requests.get(url, params=query)\n",
    "response.raise_for_status()\n",
    "json_dict = response.json()\n",
    "json_dict"
   ]
  },
  {
   "cell_type": "markdown",
   "id": "c5695539",
   "metadata": {},
   "source": [
    "## Some Errors Aren't HTTP Errors\n",
    "In the event that the filter parameters do not yield a search result, the API will note this in the response JSON--not an HTTP status code.  \n",
    "\n",
    "To handle such cases, we need to check the value of teh `error` key returned in the response.  \n",
    "\n",
    "The following example demonstrates this."
   ]
  },
  {
   "cell_type": "code",
   "execution_count": 27,
   "id": "75373d02",
   "metadata": {},
   "outputs": [
    {
     "name": "stdout",
     "output_type": "stream",
     "text": [
      "{'error': True, 'internalError': False, 'code': 106, 'message': 'No matching joke found', 'causedBy': ['No jokes were found that match your provided filter(s).'], 'additionalInfo': 'Error while finalizing joke filtering: No jokes were found that match your provided filter(s).', 'timestamp': 1656678824195}\n"
     ]
    },
    {
     "name": "stderr",
     "output_type": "stream",
     "text": [
      "A Joke Filter Error occurred. See JSON response\n"
     ]
    }
   ],
   "source": [
    "query['contains'] = 'chicken'\n",
    "response = requests.get(url, params=query)\n",
    "response.raise_for_status()\n",
    "\n",
    "joke_dict = response.json()\n",
    "\n",
    "if joke_dict['error']:\n",
    "    print(\n",
    "        \"A Joke Filter Error occurred. See JSON response\",\n",
    "        file=sys.stderr\n",
    "    )\n",
    "    print(joke_dict)\n",
    "else:\n",
    "    print(joke_dict['joke'])\n",
    "    \n"
   ]
  },
  {
   "cell_type": "markdown",
   "id": "4997eaf6",
   "metadata": {},
   "source": [
    "## Two-Part Jokes\n",
    "Two-part jokes return the joke in a different way.  The following example demonstrates this"
   ]
  },
  {
   "cell_type": "code",
   "execution_count": 28,
   "id": "f61309a4",
   "metadata": {},
   "outputs": [],
   "source": [
    "query = {\n",
    "    \"format\": \"json\",\n",
    "    \"blacklistFlags\": ','.join(blacklistFlags),\n",
    "    \"lang\": \"en\",\n",
    "    \"type\": \"twopart\",\n",
    "    \"amount\": 1,\n",
    "}"
   ]
  },
  {
   "cell_type": "code",
   "execution_count": 29,
   "id": "a2332378",
   "metadata": {},
   "outputs": [
    {
     "data": {
      "text/plain": [
       "{'error': False,\n",
       " 'category': 'Pun',\n",
       " 'type': 'twopart',\n",
       " 'setup': 'Why did the banana go see a doctor?',\n",
       " 'delivery': \"Because it wasn't peeling well.\",\n",
       " 'flags': {'nsfw': False,\n",
       "  'religious': False,\n",
       "  'political': False,\n",
       "  'racist': False,\n",
       "  'sexist': False,\n",
       "  'explicit': False},\n",
       " 'id': 256,\n",
       " 'safe': True,\n",
       " 'lang': 'en'}"
      ]
     },
     "execution_count": 29,
     "metadata": {},
     "output_type": "execute_result"
    }
   ],
   "source": [
    "response = requests.get(url, params=query)\n",
    "response.raise_for_status()\n",
    "\n",
    "json_dict = response.json()\n",
    "json_dict"
   ]
  },
  {
   "cell_type": "markdown",
   "id": "7edda3a1",
   "metadata": {},
   "source": [
    "## Getting the Two-Parts\n",
    "As you can see, the joke is split into two parts:\n",
    "- setup\n",
    "- delivery"
   ]
  },
  {
   "cell_type": "code",
   "execution_count": 30,
   "id": "005fbfec",
   "metadata": {},
   "outputs": [
    {
     "name": "stdout",
     "output_type": "stream",
     "text": [
      "Why did the banana go see a doctor?\n",
      "Because it wasn't peeling well.\n"
     ]
    }
   ],
   "source": [
    "print(json_dict['setup'])\n",
    "print(json_dict['delivery'])"
   ]
  },
  {
   "cell_type": "markdown",
   "id": "dde6011b",
   "metadata": {},
   "source": [
    "## Handle Either Type\n",
    "If the `type` parameter is not specified, we need to check the joke type in the response. "
   ]
  },
  {
   "cell_type": "code",
   "execution_count": 33,
   "id": "d1d2c1de",
   "metadata": {},
   "outputs": [],
   "source": [
    "def print_joke(joke):\n",
    "    \"\"\"Prints the joke contained in the joke argument. \n",
    "    Handles single and two-part jokes\n",
    "    \"\"\"\n",
    "    if joke['type'] == 'twopart':\n",
    "        joke_str = joke['setup'] + '\\n' + joke['delivery']\n",
    "    else:\n",
    "        joke_str = joke['joke']\n",
    "        \n",
    "    print(joke_str)"
   ]
  },
  {
   "cell_type": "code",
   "execution_count": 34,
   "id": "06ab5d12",
   "metadata": {},
   "outputs": [
    {
     "name": "stdout",
     "output_type": "stream",
     "text": [
      "I'm reading a book about anti-gravity. It's impossible to put down!\n"
     ]
    }
   ],
   "source": [
    "query = {\n",
    "    \"format\": \"json\",\n",
    "    \"blacklistFlags\": ','.join(blacklistFlags),\n",
    "    \"lang\": \"en\",\n",
    "    \"amount\": 1,\n",
    "}\n",
    "\n",
    "response = requests.get(url, params=query)\n",
    "response.raise_for_status()\n",
    "\n",
    "joke_dict = response.json()\n",
    "\n",
    "if not joke_dict['error']:\n",
    "    print_joke(joke_dict)"
   ]
  },
  {
   "cell_type": "markdown",
   "id": "2614266d",
   "metadata": {},
   "source": [
    "## Print Random Joke\n",
    "The Joke API returns a random joke. If we set the category to 'Any', we essentially get a random joke.  Here, the flags are all left in place.\n",
    "\n",
    "Moreover, we bundle all of this into a function."
   ]
  },
  {
   "cell_type": "code",
   "execution_count": 35,
   "id": "05de066b",
   "metadata": {},
   "outputs": [],
   "source": [
    "def print_random_joke():\n",
    "    \"\"\"Requests a joke from Joke API and prints it\"\"\"\n",
    "\n",
    "    url = \"https://v2.jokeapi.dev/joke/Any\"\n",
    "    query = {\n",
    "        \"format\": \"json\",\n",
    "        \"blacklistFlags\": ','.join(blacklistFlags),\n",
    "        \"lang\": \"en\",\n",
    "        \"amount\": 1,\n",
    "    }\n",
    "    response = requests.get(url, params=query)\n",
    "    response.raise_for_status()\n",
    "    \n",
    "    joke = response.json()\n",
    "    \n",
    "    if joke['error']:\n",
    "        raise ValueError(f'Filter error occured:\\n{joke}')\n",
    "    \n",
    "    print_joke(joke)\n",
    "    "
   ]
  },
  {
   "cell_type": "code",
   "execution_count": 36,
   "id": "a37d88b8",
   "metadata": {},
   "outputs": [
    {
     "name": "stdout",
     "output_type": "stream",
     "text": [
      "A programmer puts two glasses on his bedside table before going to sleep.\n",
      "A full one, in case he gets thirsty, and an empty one, in case he doesn't.\n"
     ]
    }
   ],
   "source": [
    "print_random_joke()"
   ]
  },
  {
   "cell_type": "code",
   "execution_count": 37,
   "id": "fc72c16a",
   "metadata": {},
   "outputs": [
    {
     "name": "stdout",
     "output_type": "stream",
     "text": [
      "I'm reading a book about anti-gravity. It's impossible to put down!\n"
     ]
    }
   ],
   "source": [
    "print_random_joke()"
   ]
  },
  {
   "cell_type": "code",
   "execution_count": 38,
   "id": "3505eb65",
   "metadata": {},
   "outputs": [
    {
     "name": "stdout",
     "output_type": "stream",
     "text": [
      "Why did the programmer quit his job?\n",
      "Because he didn't get arrays.\n"
     ]
    }
   ],
   "source": [
    "print_random_joke()"
   ]
  },
  {
   "cell_type": "code",
   "execution_count": null,
   "id": "9d627764",
   "metadata": {},
   "outputs": [],
   "source": []
  }
 ],
 "metadata": {
  "celltoolbar": "Slideshow",
  "kernelspec": {
   "display_name": "Python 3 (ipykernel)",
   "language": "python",
   "name": "python3"
  },
  "language_info": {
   "codemirror_mode": {
    "name": "ipython",
    "version": 3
   },
   "file_extension": ".py",
   "mimetype": "text/x-python",
   "name": "python",
   "nbconvert_exporter": "python",
   "pygments_lexer": "ipython3",
   "version": "3.10.0"
  },
  "toc": {
   "base_numbering": 1,
   "nav_menu": {},
   "number_sections": false,
   "sideBar": true,
   "skip_h1_title": false,
   "title_cell": "Table of Contents",
   "title_sidebar": "Contents",
   "toc_cell": false,
   "toc_position": {},
   "toc_section_display": true,
   "toc_window_display": false
  }
 },
 "nbformat": 4,
 "nbformat_minor": 5
}
