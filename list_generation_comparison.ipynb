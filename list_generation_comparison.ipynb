{
 "cells": [
  {
   "cell_type": "markdown",
   "id": "95f42f20",
   "metadata": {},
   "source": [
    "# List Generation Comparison\n",
    "This notebook demonstrates the performance of three different approaches to generating a new list from an existing list. Here, a list of random numbers is generated and then filtered to create a new list.  "
   ]
  },
  {
   "cell_type": "code",
   "execution_count": 1,
   "id": "7da9bb47",
   "metadata": {},
   "outputs": [],
   "source": [
    "from random import randint"
   ]
  },
  {
   "cell_type": "markdown",
   "id": "610ce69c",
   "metadata": {},
   "source": [
    "## The Original List\n",
    "A parent list consiting of random integers (both positive and negative) is created.\n",
    "\n",
    "This list is then filtered to produce a list consiting of *only* positive values from the original list."
   ]
  },
  {
   "cell_type": "code",
   "execution_count": 19,
   "id": "4310e4be",
   "metadata": {},
   "outputs": [],
   "source": [
    "MIN, MAX = -10, 10\n",
    "NUM = 10_000_000\n",
    "\n",
    "nums = [randint(MIN, MAX) for _ in range(NUM)]"
   ]
  },
  {
   "cell_type": "markdown",
   "id": "d59eedb8",
   "metadata": {},
   "source": [
    "### List Comprehension\n",
    "This is the fastest approach to generating the list of postive values."
   ]
  },
  {
   "cell_type": "code",
   "execution_count": 14,
   "id": "91a4bd46",
   "metadata": {},
   "outputs": [
    {
     "name": "stdout",
     "output_type": "stream",
     "text": [
      "178 ms ± 1.24 ms per loop (mean ± std. dev. of 7 runs, 1 loop each)\n"
     ]
    }
   ],
   "source": [
    "%%timeit\n",
    "pos_nums = [n for n in nums if n >=0]"
   ]
  },
  {
   "cell_type": "markdown",
   "id": "33e7de61",
   "metadata": {},
   "source": [
    "### For Loop\n",
    "Sometimes, there is no better choice than a for loop.  However, if a single list is to be created from another list / sequence / iterable, a comprehension is clearly better.  The for loop takes more than 1.5 tims as long (36% slower)."
   ]
  },
  {
   "cell_type": "code",
   "execution_count": 15,
   "id": "73029a93",
   "metadata": {},
   "outputs": [
    {
     "name": "stdout",
     "output_type": "stream",
     "text": [
      "268 ms ± 4.75 ms per loop (mean ± std. dev. of 7 runs, 1 loop each)\n"
     ]
    }
   ],
   "source": [
    "%%timeit\n",
    "pos_nums = []\n",
    "\n",
    "for n in nums:\n",
    "    if n >=0:\n",
    "        pos_nums.append(n)"
   ]
  },
  {
   "cell_type": "markdown",
   "id": "65713e29",
   "metadata": {},
   "source": [
    "### Using `filter()`\n",
    "The `filter()` function has the benefit of lazy evaluation.  It does not immediately operate on the list. If you time `filter()` independently, it is very fast--again, because it does not perform any comparisons on the elements of the parent list.  \n",
    "\n",
    "`filter()` returns a filter object--not a list.  If a list is the required type, then it must be converted using the `list()` function.  \n",
    "\n",
    "In total, this is the slowest approach of all, taking nearly twice as long.  "
   ]
  },
  {
   "cell_type": "code",
   "execution_count": 16,
   "id": "434c152e",
   "metadata": {
    "scrolled": true
   },
   "outputs": [
    {
     "name": "stdout",
     "output_type": "stream",
     "text": [
      "341 ms ± 1.86 ms per loop (mean ± std. dev. of 7 runs, 1 loop each)\n"
     ]
    }
   ],
   "source": [
    "%%timeit\n",
    "pos_nums = list(filter(lambda x: x >= 0, nums))"
   ]
  },
  {
   "cell_type": "code",
   "execution_count": null,
   "id": "17088247",
   "metadata": {},
   "outputs": [],
   "source": []
  }
 ],
 "metadata": {
  "hide_input": false,
  "kernelspec": {
   "display_name": "Python 3 (ipykernel)",
   "language": "python",
   "name": "python3"
  },
  "language_info": {
   "codemirror_mode": {
    "name": "ipython",
    "version": 3
   },
   "file_extension": ".py",
   "mimetype": "text/x-python",
   "name": "python",
   "nbconvert_exporter": "python",
   "pygments_lexer": "ipython3",
   "version": "3.10.0"
  },
  "toc": {
   "base_numbering": 1,
   "nav_menu": {},
   "number_sections": false,
   "sideBar": true,
   "skip_h1_title": false,
   "title_cell": "Table of Contents",
   "title_sidebar": "Contents",
   "toc_cell": false,
   "toc_position": {},
   "toc_section_display": true,
   "toc_window_display": false
  }
 },
 "nbformat": 4,
 "nbformat_minor": 5
}
