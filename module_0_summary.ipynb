{
 "cells": [
  {
   "cell_type": "markdown",
   "id": "3439811f",
   "metadata": {
    "slideshow": {
     "slide_type": "slide"
    }
   },
   "source": [
    "# Module 0 Summary\n",
    "- Python syntax basics\n",
    "- Strings and String Methods\n",
    "- Functions\n",
    "- Looping Structures: `for` and `while` loops\n",
    "- Functions"
   ]
  },
  {
   "cell_type": "markdown",
   "id": "7476d45d",
   "metadata": {
    "slideshow": {
     "slide_type": "slide"
    }
   },
   "source": [
    "# Python Syntax Basics\n",
    "- Python is case sensitive\n",
    "- variable name rules (and styles)\n",
    "- indentation"
   ]
  },
  {
   "cell_type": "markdown",
   "id": "37733150",
   "metadata": {
    "slideshow": {
     "slide_type": "subslide"
    }
   },
   "source": [
    "# Variable Name Rules\n",
    "- unlimited name length\n",
    "- No spaces in names\n",
    "- must contain only `[A-Z, a-z, 0-9]` or `_` (underscores)\n",
    "- names are case-sensitive: `Length` and `length` are two different names\n",
    "- names must **not** begin with a digit.\n",
    "- Python module names *must* follow these rules."
   ]
  },
  {
   "cell_type": "markdown",
   "id": "b3386bae",
   "metadata": {
    "slideshow": {
     "slide_type": "subslide"
    }
   },
   "source": [
    "# Style-Guide for Names\n",
    "- use `snake_case` for variable and function names\n",
    "- use `CamelCase` for class names\n",
    "- use `snake_case` for module names"
   ]
  },
  {
   "cell_type": "markdown",
   "id": "9cd9abc3",
   "metadata": {
    "slideshow": {
     "slide_type": "subslide"
    }
   },
   "source": [
    "# Indentation\n",
    "- Contiguous lines of indented Python code form a block.\n",
    "- Indentation is always expected after a `:`\n",
    "- Standard indent is **4 spaces**\n",
    "    - Indentation choice must be consistent throughout a given module.\n",
    "- Use spaces, not tabs\n",
    "    - Note that the <kbd>TAB</kbd> key *does* input multiple spaces in *Python-aware* editors. \n",
    "- Do not mix spaces and TABs."
   ]
  },
  {
   "cell_type": "markdown",
   "id": "f3f92d80",
   "metadata": {
    "slideshow": {
     "slide_type": "slide"
    }
   },
   "source": [
    "# Strings\n",
    "- The expression `lang = \"Python\"` assigns the string literal \"Python\" to the variable name `lang`.\n",
    "- Use double (`\"`) or single (`'`) quotes to *delimit* string literals\n",
    "- Escape quotes with the backslash (`\\`) if needed:\n",
    "    - example: `length_description = '5\\' 3\"'`\n",
    "    - here, the backslash escapes the foot symbol `'`."
   ]
  },
  {
   "cell_type": "markdown",
   "id": "1dc42436",
   "metadata": {
    "slideshow": {
     "slide_type": "subslide"
    }
   },
   "source": [
    "## Long Strings\n",
    "- Common style guides require that lines be less than 80 characters in width. \n",
    "    - improves readability\n",
    "- multiple approaches are available for shortening long lines.\n",
    "- The simplest is using the `\\` to escape the newline character.  "
   ]
  },
  {
   "cell_type": "code",
   "execution_count": 1,
   "id": "4174e6fb",
   "metadata": {},
   "outputs": [
    {
     "name": "stdout",
     "output_type": "stream",
     "text": [
      "Lorem ipsum dolor sit amet, consectetur adipiscing elit.Proin non est sollicitudin, ornare nisi a, scelerisque lacus. Proin gravida tortor sed ullamcorper sit.\n"
     ]
    }
   ],
   "source": [
    "# Long lines with backslash escapes of newlines\n",
    "long_str = \"Lorem ipsum dolor sit amet, consectetur adipiscing elit.\\\n",
    "Proin non est sollicitudin, ornare nisi a, scelerisque lacus. Proin \\\n",
    "gravida tortor sed ullamcorper sit.\"\n",
    "\n",
    "print(long_str)"
   ]
  },
  {
   "cell_type": "markdown",
   "id": "ef421fc2",
   "metadata": {
    "slideshow": {
     "slide_type": "subslide"
    }
   },
   "source": [
    "## Break Long Strings with ( )\n",
    "- escaping the newline with a `\\` presents problems with indented code blocks.\n",
    "- indentation spaces are included in the string. \n",
    "- use `()` to break long strings and maintain indentation\n",
    "    - used widely in data science due to long code lines\n",
    "    - Python ignores newline characters inside parenthesis"
   ]
  },
  {
   "cell_type": "code",
   "execution_count": 2,
   "id": "aabd6844",
   "metadata": {
    "scrolled": true
   },
   "outputs": [
    {
     "name": "stdout",
     "output_type": "stream",
     "text": [
      "Lorem ipsum dolor sit amet, consectetur adipiscing elit. Proin non est sollicitudin, ornare nisi a, scelerisque lacus. Proin gravida tortor sed ullamcorper sit.\n"
     ]
    }
   ],
   "source": [
    "long_str = (\"Lorem ipsum dolor sit amet, consectetur adipiscing elit. \"\n",
    "            \"Proin non est sollicitudin, ornare nisi a, scelerisque lacus.\"\n",
    "            \" Proin gravida tortor sed ullamcorper sit.\"\n",
    "           )\n",
    "print(long_str)"
   ]
  },
  {
   "cell_type": "markdown",
   "id": "eb36d0fd",
   "metadata": {
    "slideshow": {
     "slide_type": "subslide"
    }
   },
   "source": [
    "## String Indexing\n",
    "- Python sequence indices begin at zero\n",
    "- Negative indices index from the end of the string\n",
    "    - Have range of [-1, -length], where length is the length of the string\n",
    "- Examples of other indexing approaches are shown in the following examples"
   ]
  },
  {
   "cell_type": "code",
   "execution_count": 3,
   "id": "08f287cd",
   "metadata": {
    "slideshow": {
     "slide_type": "-"
    }
   },
   "outputs": [
    {
     "name": "stdout",
     "output_type": "stream",
     "text": [
      "P\n",
      "n\n",
      "Pyt\n",
      "yhn\n",
      "nohtyP\n"
     ]
    }
   ],
   "source": [
    "lang = \"Python\"\n",
    "print(lang[0])      # Python sequence indices start at 0\n",
    "print(lang[-1])     # Negative indices index from righ to left (-1 to length)\n",
    "print(lang[0:3])    # [start:end] (indices start up to end-1 are included)\n",
    "print(lang[1:6:2])  # [start:end:step] (step is the number to increase each new index by)\n",
    "print(lang[::-1])    # [::step] Every other element from 0 to the end of the string"
   ]
  },
  {
   "cell_type": "markdown",
   "id": "2ac659c9",
   "metadata": {
    "slideshow": {
     "slide_type": "subslide"
    }
   },
   "source": [
    "## String Methods\n",
    "- Methods are functions (like `print()`) that are \"*attached*\" to objects.\n",
    "- String methods are functions attached to `str` objects.  \n",
    "- Use the `.method()` pattern for calling\n",
    "- Some useful methods:\n",
    "    - `.upper()`, `.lower()`, `.title()`\n",
    "    - `.strip()`, `.rstrip()`, and `.lstrip()`\n",
    "    - `.startswith()`, `.endswith()`\n",
    "- Find many other methods in the official documentation\n",
    "- `.split()` is another useful `str` method we will learn once we have covered `list` types."
   ]
  },
  {
   "cell_type": "markdown",
   "id": "43a7428d",
   "metadata": {
    "slideshow": {
     "slide_type": "subslide"
    }
   },
   "source": [
    "## String Methods (new since 3.9)\n",
    "- `.removeprefix(prefix)`: removes the prefix substring `prefix` if present.\n",
    "- `.removesuffix(suffix)`: removes a suffix if present. "
   ]
  },
  {
   "cell_type": "code",
   "execution_count": 4,
   "id": "ea98a699",
   "metadata": {},
   "outputs": [
    {
     "name": "stdout",
     "output_type": "stream",
     "text": [
      "no_extension='cbu-image-01'\n",
      "no_prefix='image-01.png'\n",
      "filename.removesuffix('.png').removeprefix('cbu-')='image-01'\n"
     ]
    }
   ],
   "source": [
    "filename = \"cbu-image-01.png\"\n",
    "no_extension = filename.removesuffix(\".png\")\n",
    "no_prefix = filename.removeprefix(\"cbu-\")\n",
    "print(f\"{no_extension=}\")\n",
    "print(f\"{no_prefix=}\")\n",
    "print(f\"{filename.removesuffix('.png').removeprefix('cbu-')=}\")"
   ]
  },
  {
   "cell_type": "markdown",
   "id": "61ecce4c",
   "metadata": {
    "slideshow": {
     "slide_type": "slide"
    }
   },
   "source": [
    "## f-strings\n",
    "- Prior to Python 3.6, formatting strings with placeholders required the use of the `str.format()` method.\n"
   ]
  },
  {
   "cell_type": "code",
   "execution_count": 5,
   "id": "62ab0fe4",
   "metadata": {},
   "outputs": [
    {
     "name": "stdout",
     "output_type": "stream",
     "text": [
      "My first Python version was ver 2.4.\n"
     ]
    }
   ],
   "source": [
    "template = \"My first {lang} version was ver {version}.\"\n",
    "\n",
    "lang = \"Python\"\n",
    "version = 2.4\n",
    "\n",
    "formatted = template.format(version=version, lang=lang)\n",
    "\n",
    "print(formatted)"
   ]
  },
  {
   "cell_type": "markdown",
   "id": "94db2195",
   "metadata": {
    "slideshow": {
     "slide_type": "slide"
    }
   },
   "source": [
    "##  f-strings\n",
    "- f-strings, added in Python 3.6, simplified string formatting\n",
    "- strings preceded by `f` are considered f-strings\n",
    "- Any Python expression enclosed in `{}` is replaced with its value \n"
   ]
  },
  {
   "cell_type": "code",
   "execution_count": 6,
   "id": "fc8e48c5",
   "metadata": {},
   "outputs": [
    {
     "name": "stdout",
     "output_type": "stream",
     "text": [
      "My first Python version was ver 2.4\n"
     ]
    }
   ],
   "source": [
    "lang = \"Python\"\n",
    "ver = 2.4\n",
    "\n",
    "formatted = f\"My first {lang} version was ver {version}\"\n",
    "\n",
    "print(formatted)"
   ]
  },
  {
   "cell_type": "markdown",
   "id": "987c289e",
   "metadata": {
    "slideshow": {
     "slide_type": "slide"
    }
   },
   "source": [
    "## f-strings (new in 3.8)\n",
    "- Python 3.8 introduced the debugging specifier `=`\n",
    "    - prints the expression, followed by `=`, followed by the value of the expression\n",
    "- useful for debugging and logging."
   ]
  },
  {
   "cell_type": "code",
   "execution_count": 7,
   "id": "313d4b28",
   "metadata": {},
   "outputs": [
    {
     "name": "stdout",
     "output_type": "stream",
     "text": [
      "lang='Python'\n",
      "ver=2.4\n",
      "\n",
      "a + b = 2022\n"
     ]
    }
   ],
   "source": [
    "print(f\"{lang=}\\n{ver=}\")\n",
    "\n",
    "a, b = 2000, 22\n",
    "\n",
    "print(f\"\\n{a + b = }\")"
   ]
  },
  {
   "cell_type": "markdown",
   "id": "c47495d0",
   "metadata": {
    "slideshow": {
     "slide_type": "slide"
    }
   },
   "source": [
    "# Format Specificiers\n",
    "- control how numbers (and other types) are printed\n",
    "- included at the end of the `{}` placeholder\n",
    "\n",
    "This example demonstrates a basic use case. Note that USD currency rarely includes fractional cents."
   ]
  },
  {
   "cell_type": "code",
   "execution_count": 8,
   "id": "4c04c45c",
   "metadata": {},
   "outputs": [
    {
     "name": "stdout",
     "output_type": "stream",
     "text": [
      "The total is $ 1.9817\n"
     ]
    }
   ],
   "source": [
    "subtotal = 1.49\n",
    "tax = 0.33\n",
    "total = subtotal * (1 + tax)\n",
    "\n",
    "msg = f\"The total is $ {total}\"\n",
    "\n",
    "print(msg)"
   ]
  },
  {
   "cell_type": "markdown",
   "id": "88f65fe8",
   "metadata": {
    "slideshow": {
     "slide_type": "subslide"
    }
   },
   "source": [
    "## Specify Precision\n",
    "- Use `{:.[precision]f}` with floating point types to limit the number of decimal places to `precision` places."
   ]
  },
  {
   "cell_type": "code",
   "execution_count": 9,
   "id": "a7941cef",
   "metadata": {},
   "outputs": [
    {
     "name": "stdout",
     "output_type": "stream",
     "text": [
      "The total is $ 1.98\n"
     ]
    }
   ],
   "source": [
    "msg = f\"The total is $ {total:0.2f}\"\n",
    "\n",
    "print(msg)"
   ]
  },
  {
   "cell_type": "markdown",
   "id": "6d87a1d4",
   "metadata": {
    "slideshow": {
     "slide_type": "subslide"
    }
   },
   "source": [
    "## Other Format Control Options\n",
    "The full format control string allows for the following fields:\n",
    "\n",
    "```\n",
    "[fill][align][sign][width].[precision][type]\n",
    "```\n"
   ]
  },
  {
   "cell_type": "markdown",
   "id": "2b5a4cd4",
   "metadata": {
    "slideshow": {
     "slide_type": "subslide"
    }
   },
   "source": [
    "## Other Format Control Options\n",
    "The full format control string allows for the following fields:\n",
    "\n",
    "```\n",
    "[fill][align][sign][width].[precision][type]\n",
    "```\n",
    "- **type**: Type specifier.  There are different type specs for integer and floating point types.\n",
    "    - type conversion provides a numerical representation in the specified type"
   ]
  },
  {
   "cell_type": "code",
   "execution_count": 10,
   "id": "a36eeb5c",
   "metadata": {
    "slideshow": {
     "slide_type": "subslide"
    }
   },
   "outputs": [
    {
     "name": "stdout",
     "output_type": "stream",
     "text": [
      "with d: 224\n",
      "with f: 224.000000\n",
      "with x: e0\n",
      "with X: E0\n",
      "with b: 11100000\n",
      "with o: 340\n",
      "with f: 224.000000\n",
      "with e: 2.240000e+02\n",
      "with E: 2.240000E+02\n",
      "with %: 22400.000000%\n"
     ]
    }
   ],
   "source": [
    "num = 224\n",
    "print(f'with d: {num:d}')  # this is the default for integers\n",
    "print(f'with f: {num:f}')  # floating point display\n",
    "print(f'with x: {num:x}')  # lowcase hexadecimal representation\n",
    "print(f'with X: {num:X}')  # UPCASE hexadecimal representation\n",
    "print(f'with b: {num:b}')  # binary representation\n",
    "print(f'with o: {num:o}')  # octal representation\n",
    "\n",
    "print(f'with f: {num:f}')  # default for floating point types\n",
    "print(f'with e: {num:e}')  # lowcase exponential (scientific) notation\n",
    "print(f'with E: {num:E}')  # UPCASE exponential notation\n",
    "print(f'with %: {num:%}')  # With %, the value is first multiplied by 100\n"
   ]
  },
  {
   "cell_type": "markdown",
   "id": "1eedeb6a",
   "metadata": {
    "slideshow": {
     "slide_type": "subslide"
    }
   },
   "source": [
    "## Other Format Control Options\n",
    "The full format control string allows for the following fields:\n",
    "\n",
    "```\n",
    "[fill][align][sign][width].[precision][type]\n",
    "```\n",
    "\n",
    "- **width**: The width of the field in characters. "
   ]
  },
  {
   "cell_type": "code",
   "execution_count": 11,
   "id": "cd2417c1",
   "metadata": {},
   "outputs": [
    {
     "name": "stdout",
     "output_type": "stream",
     "text": [
      "total: 1.98\n",
      "total:       1.98\n",
      "total:                 1.98\n"
     ]
    }
   ],
   "source": [
    "print(f\"total: {total:0.2f}\")\n",
    "print(f\"total: {total:10.2f}\")\n",
    "print(f\"total: {total:20.2f}\")"
   ]
  },
  {
   "cell_type": "markdown",
   "id": "f041be0f",
   "metadata": {
    "slideshow": {
     "slide_type": "subslide"
    }
   },
   "source": [
    "## Other Format Control Options\n",
    "The full format control string allows for the following fields:\n",
    "\n",
    "```\n",
    "[fill][align][sign][width].[precision][type]\n",
    "```\n",
    "- **sign**: the sign option is only valid for number types. \n",
    "  - `+`: indicates that a sign should be used for both positive as well as negative numbers.\n",
    "  - `-`: indicates that a sign should be used only for negative numbers (this is the default behavior).\n",
    "  - ` `: (space) indicates that a leading space should be used on positive numbers, and a minus sign on negative\n"
   ]
  },
  {
   "cell_type": "code",
   "execution_count": 12,
   "id": "f2c6e9a4",
   "metadata": {},
   "outputs": [
    {
     "name": "stdout",
     "output_type": "stream",
     "text": [
      "total: +1.98\n",
      "total: -1.98\n",
      "total:  1.98\n",
      "total: -1.98\n"
     ]
    }
   ],
   "source": [
    "print(f\"total: {total:+.2f}\")\n",
    "print(f\"total: {-total:-.2f}\")\n",
    "print(f\"total: {total: .2f}\")\n",
    "print(f\"total: {-total: .2f}\")"
   ]
  },
  {
   "cell_type": "markdown",
   "id": "4a644663",
   "metadata": {
    "slideshow": {
     "slide_type": "subslide"
    }
   },
   "source": [
    "## Other Format Control Options\n",
    "The full format control string allows for the following fields:\n",
    "\n",
    "```\n",
    "[fill][align][sign][width].[precision][type]\n",
    "```\n",
    "- **align**: \n",
    "  - `<`: Forces the field to be left-aligned within the available space (this is the default for most objects).\n",
    "  - `>`: Forces the field to be right-aligned within the available space (this is the default for numbers).\n",
    "  - `=`: Forces the padding to be placed after the sign (if any) but before the digits. This is used for printing fields in the form ‘+000000120’. This alignment option is only valid for numeric types. It becomes the default for numbers when ‘0’ immediately precedes the field width.\n",
    "  - `^`: Forces the field to be centered within the available space."
   ]
  },
  {
   "cell_type": "code",
   "execution_count": 13,
   "id": "c17aaf10",
   "metadata": {},
   "outputs": [
    {
     "name": "stdout",
     "output_type": "stream",
     "text": [
      "with d: 224\n",
      "with 10d:        224\n",
      "with <10d:224       \n",
      "with ^10d:   224    \n",
      "with >10d:       224\n"
     ]
    }
   ],
   "source": [
    "num = 224\n",
    "print(f'with d: {num:d}')  # The default for integers\n",
    "print(f'with 10d: {num:10d}') # Field width of 10, default alingment\n",
    "print(f'with <10d:{num:<10d}') # Field width of 10, left alignment\n",
    "print(f'with ^10d:{num:^10d}') # Field width of 10, centered alignment\n",
    "print(f'with >10d:{num:>10d}') # Field width of 10, right alignment"
   ]
  },
  {
   "cell_type": "markdown",
   "id": "c8dc2651",
   "metadata": {
    "slideshow": {
     "slide_type": "subslide"
    }
   },
   "source": [
    "## Other Format Control Options\n",
    "The full format control string allows for the following fields:\n",
    "\n",
    "```\n",
    "[fill][align][sign][width].[precision][type]\n",
    "```\n",
    "\n",
    "- **fill**: optional character used to pad the field. Can be any character except `{` or `}`.\n"
   ]
  },
  {
   "cell_type": "code",
   "execution_count": 14,
   "id": "fcaf1f8d",
   "metadata": {},
   "outputs": [
    {
     "name": "stdout",
     "output_type": "stream",
     "text": [
      "with _<10d: 224_______\n",
      "with _>10d: _______224\n",
      "with _=10d: _______224\n"
     ]
    }
   ],
   "source": [
    "num = 224\n",
    "print(f'with _<10d: {num:_<10d}')\n",
    "print(f'with _>10d: {num:_>10d}')\n",
    "print(f'with _=10d: {num:_=10d}') # The effect is noticed when using sign"
   ]
  },
  {
   "cell_type": "markdown",
   "id": "872e35dd",
   "metadata": {
    "slideshow": {
     "slide_type": "slide"
    }
   },
   "source": [
    "# User Input\n",
    "- Use the `input([prompt_string])` function to collect input from `stdin`.\n",
    "    - accepts an optional prompt string \n",
    "- Return value is a `str` type\n",
    "- use `float` or `int` to convert appropriately if collecting numerical input\n"
   ]
  },
  {
   "cell_type": "code",
   "execution_count": 15,
   "id": "a4701943",
   "metadata": {},
   "outputs": [
    {
     "name": "stdout",
     "output_type": "stream",
     "text": [
      "Units: m\n",
      "Measure: 12\n",
      "Measurement: 12.00 m\n"
     ]
    }
   ],
   "source": [
    "unit = input(\"Units: \")\n",
    "measure = float(input(\"Measure: \"))\n",
    "print(f\"Measurement: {measure:.2f} {unit}\")"
   ]
  },
  {
   "cell_type": "markdown",
   "id": "5315320f",
   "metadata": {
    "slideshow": {
     "slide_type": "subslide"
    }
   },
   "source": [
    "## Use Cases for `input()`\n",
    "- CLI (Command Line Interface) programs\n",
    "    - CI package `fabric`, used for continuous development/integration uses `input()` to prompt for passwords required for remote systems (if not configured)\n",
    "- Useful for simple to complex automation scripts that may require some user input.  \n",
    "- Note: It is often better to use some kind of configuration file (Python, YAML, TOML, INI or other)"
   ]
  },
  {
   "cell_type": "markdown",
   "id": "9e574609",
   "metadata": {
    "slideshow": {
     "slide_type": "slide"
    }
   },
   "source": [
    "# Arithmetic Operators\n",
    "- `+, -, *, /` perform the expected operations\n",
    "- Use `**` for exponentiation\n",
    "- Use `//` for floor division\n",
    "- use `%` for modulo division (remainder after integer division)\n",
    "- Be mindful of operator precedence"
   ]
  },
  {
   "cell_type": "markdown",
   "id": "a48117d5",
   "metadata": {
    "slideshow": {
     "slide_type": "slide"
    }
   },
   "source": [
    "# Loops\n",
    "- Two loop types: `while` and `for`\n",
    "- Both loop types support `break` and `continue`\n",
    "- Both loop types support an `else` block that runs if a `break` statement wasn't reached."
   ]
  },
  {
   "cell_type": "markdown",
   "id": "03f90ef6",
   "metadata": {
    "slideshow": {
     "slide_type": "slide"
    }
   },
   "source": [
    "# While Loop\n",
    "- More complicated as it requires explicit loop control\n",
    "- Loop control variables often used with the **initialize-test-update** pattern."
   ]
  },
  {
   "cell_type": "code",
   "execution_count": 16,
   "id": "114cf2e3",
   "metadata": {},
   "outputs": [
    {
     "name": "stdout",
     "output_type": "stream",
     "text": [
      "1 3 6 10 15 "
     ]
    }
   ],
   "source": [
    "sum = 0  # Loop Control Variable initialization\n",
    "counter = 1\n",
    "\n",
    "while sum <= 10: # TEST loop control variable\n",
    "    sum += counter # UPDATE loop control variable\n",
    "    counter += 1\n",
    "    print(f\"{sum}\", end=\" \")\n"
   ]
  },
  {
   "cell_type": "markdown",
   "id": "6f5460cc",
   "metadata": {
    "slideshow": {
     "slide_type": "subslide"
    }
   },
   "source": [
    "## While Loop Issues\n",
    "- Infinite loops are loops that never end without intervention.\n",
    "    - Cause: missing TEST or UPDATE of loop control variable\n",
    "- while loops that don't start\n",
    "    - Cause: missing INITIALIZE of loop control.\n",
    "   "
   ]
  },
  {
   "cell_type": "markdown",
   "id": "9f382fe2",
   "metadata": {
    "slideshow": {
     "slide_type": "subslide"
    }
   },
   "source": [
    "## While Loop Use Cases\n",
    "- in general, use a `while` loop when you don't know how many times the loop will run. \n",
    "- Useful for iterative processes that depend on outside inputs (other programs or users)\n",
    "- Useful for cases where a program is constantly listening for events or inputs \n",
    "    - browsers and games run event loops for instance"
   ]
  },
  {
   "cell_type": "code",
   "execution_count": 17,
   "id": "1f8e5fe7",
   "metadata": {},
   "outputs": [
    {
     "name": "stdout",
     "output_type": "stream",
     "text": [
      "Enter integers to sum (enter negative number to quit): 30\n",
      "Enter integers to sum (enter negative number to quit): 20\n",
      "Enter integers to sum (enter negative number to quit): 10\n",
      "Enter integers to sum (enter negative number to quit): -1\n",
      "total = 60\n"
     ]
    }
   ],
   "source": [
    "# Loop to collect multiple inputs\n",
    "\n",
    "total = 0\n",
    "prompt = \"Enter integers to sum (enter negative number to quit): \"\n",
    "\n",
    "input_val = int(input(prompt))     # INITIALIZE\n",
    "\n",
    "while input_val >= 0:              # TEST\n",
    "    total += input_val\n",
    "    input_val = int(input(prompt)) # UPDATE\n",
    "    \n",
    "print(f\"{total = }\")"
   ]
  },
  {
   "cell_type": "markdown",
   "id": "cda414a2",
   "metadata": {
    "slideshow": {
     "slide_type": "subslide"
    }
   },
   "source": [
    "## Break Keyword\n",
    "- The `break` keyword is used to break completely out of a loop\n"
   ]
  },
  {
   "cell_type": "code",
   "execution_count": 18,
   "id": "df83e121",
   "metadata": {},
   "outputs": [
    {
     "name": "stdout",
     "output_type": "stream",
     "text": [
      "Enter integers to sum (enter negative number to quit): 20\n",
      "Enter integers to sum (enter negative number to quit): 20\n",
      "Enter integers to sum (enter negative number to quit): -1\n",
      "total = 40\n"
     ]
    }
   ],
   "source": [
    "# Loop to collect multiple inputs\n",
    "\n",
    "total = 0\n",
    "prompt = \"Enter integers to sum (enter negative number to quit): \"\n",
    "\n",
    "while True:                        # Infinite Loop\n",
    "    input_val = int(input(prompt)) # INITIALIZE FIRST RUN / UPDATE OTHER\n",
    "    \n",
    "    if input_val < 0:              # TEST\n",
    "        break\n",
    "        \n",
    "    total += input_val    \n",
    "    \n",
    "print(f\"{total = }\")"
   ]
  },
  {
   "cell_type": "markdown",
   "id": "6e2559af",
   "metadata": {
    "slideshow": {
     "slide_type": "subslide"
    }
   },
   "source": [
    "## Continue Keyword\n",
    "- The `continue` keyword is used to return to the top of the loop when a condition is met.\n",
    "- Useful for ignoring certain cases"
   ]
  },
  {
   "cell_type": "code",
   "execution_count": 19,
   "id": "4bd885d2",
   "metadata": {},
   "outputs": [
    {
     "name": "stdout",
     "output_type": "stream",
     "text": [
      "Enter an integer to sum: 1\n",
      "Enter an integer to sum: 2\n",
      "Enter an integer to sum: 3\n",
      "Enter an integer to sum: 4\n",
      "Enter an integer to sum: 5\n",
      "total = 15\n"
     ]
    }
   ],
   "source": [
    "# Loop to sum the first 5 positive integers\n",
    "# ignores negative integers\n",
    "\n",
    "count = 0                 # INITIALIZE\n",
    "total = 0\n",
    "prompt = \"Enter an integer to sum: \"\n",
    "\n",
    "while count < 5:\n",
    "    input_val = int(input(prompt))\n",
    "    \n",
    "    if input_val < 0:\n",
    "        continue\n",
    "    \n",
    "    total += input_val\n",
    "    count += 1\n",
    "    \n",
    "print(f\"{total = }\")"
   ]
  },
  {
   "cell_type": "markdown",
   "id": "fe9342cf",
   "metadata": {
    "slideshow": {
     "slide_type": "slide"
    }
   },
   "source": [
    "# for Loops\n",
    "- `for` loops have simplified loop control\n",
    "- Loop control is managed behind the scenes by Python\n",
    "- `for` loops use a membership expression including an *iterable* to control loop flow\n",
    "    - `str` types and the `generator` returned by `range()` are iterable."
   ]
  },
  {
   "cell_type": "code",
   "execution_count": 20,
   "id": "6f25a748",
   "metadata": {},
   "outputs": [
    {
     "name": "stdout",
     "output_type": "stream",
     "text": [
      "a b c d e f g 1 3 5 7 "
     ]
    }
   ],
   "source": [
    "letters = \"abcdefg\"\n",
    "\n",
    "for letter in letters:\n",
    "    print(letter, end=' ')\n",
    "    \n",
    "for num in range(1, 8, 2):\n",
    "    print(num, end=' ')"
   ]
  },
  {
   "cell_type": "markdown",
   "id": "57b9a773",
   "metadata": {
    "slideshow": {
     "slide_type": "subslide"
    }
   },
   "source": [
    "# for Loop Use Cases\n",
    "- Use `for` loops for most cases in Python\n",
    "- With sequences like `str`, `list`, and `tuple` types. \n",
    "- When using a `for` loop, avoid using `range()` to create index variables.\n",
    "    - when possible, avoid indexing lists in a loop body--iterate instead."
   ]
  },
  {
   "cell_type": "code",
   "execution_count": 21,
   "id": "d7b3b7cb",
   "metadata": {},
   "outputs": [
    {
     "name": "stdout",
     "output_type": "stream",
     "text": [
      "P y t h o n P y t h o n "
     ]
    }
   ],
   "source": [
    "# BAD Loop Design\n",
    "lang = \"Python\"\n",
    "\n",
    "for k in range(len(lang)):    # Functional, but\n",
    "    print(lang[k], end=' ')   # excessive syntax\n",
    "    \n",
    "    \n",
    "# GOOD / BETTER\n",
    "for c in lang:\n",
    "    print(c, end=' ')"
   ]
  },
  {
   "cell_type": "markdown",
   "id": "2dcbb1a4",
   "metadata": {
    "slideshow": {
     "slide_type": "subslide"
    }
   },
   "source": [
    "## The enumerate Function\n",
    "- For times when you absolutely need a counter or index variable\n",
    "- `enumerate()` produces 2 values at each iteration for an iterable\n",
    "    - a value from an iterable in `[0, length - 1]` where `length` is the number of items in the iterable.\n"
   ]
  },
  {
   "cell_type": "code",
   "execution_count": 22,
   "id": "18ff8c81",
   "metadata": {},
   "outputs": [
    {
     "name": "stdout",
     "output_type": "stream",
     "text": [
      "0 P\n",
      "1 y\n",
      "2 t\n",
      "3 h\n",
      "4 o\n",
      "5 n\n"
     ]
    }
   ],
   "source": [
    "for k, letter in enumerate(\"Python\"):\n",
    "    print(k, letter)"
   ]
  },
  {
   "cell_type": "markdown",
   "id": "b88ea03f",
   "metadata": {
    "slideshow": {
     "slide_type": "slide"
    }
   },
   "source": [
    "# Functions\n",
    "- Functions (subroutines) make your code reusable.\n",
    "- Function definitions assign a collection of code to a *name*, along with optional *positional* and *keyword* parameters\n",
    "    - parameters refers to values that the function accepts\n",
    "    - arguments are values that are actually passed to the function\n",
    "- **positional** arguments must be passed in the proper order. \n",
    "    - when defining or calling a function, positional arguments must come before *keyword* arguments.\n",
    "- **keyword** arguments (also called *kwargs*) follow *key=value* pattern when defining with default values or when calling. "
   ]
  },
  {
   "cell_type": "code",
   "execution_count": 23,
   "id": "ddbe1a54",
   "metadata": {},
   "outputs": [
    {
     "name": "stdout",
     "output_type": "stream",
     "text": [
      "concat(lang, ver) = 'Python 3.10'\n"
     ]
    }
   ],
   "source": [
    "# concat with positional arguments only\n",
    "def concat(s1, s2):\n",
    "    \"\"\"Concatenates and returns strings s1 and s2 with a space separator.\"\"\"\n",
    "    return s1 + ' ' + s2\n",
    "\n",
    "lang = \"Python\"\n",
    "ver = \"3.10\"\n",
    "\n",
    "print(f\"{concat(lang, ver) = }\")"
   ]
  },
  {
   "cell_type": "code",
   "execution_count": 24,
   "id": "e8480b10",
   "metadata": {
    "slideshow": {
     "slide_type": "subslide"
    }
   },
   "outputs": [
    {
     "name": "stdout",
     "output_type": "stream",
     "text": [
      "concat(lang, ver) = 'Python 3.10'\n",
      "concat(lang, ver, sep='__') = 'Python__3.10'\n"
     ]
    }
   ],
   "source": [
    "# concat with optional separator (sep) kwarg\n",
    "def concat(s1, s2, sep=\" \"):\n",
    "    \"\"\"Concatenates and returns strings s1 and s2 with a space separator.\n",
    "    Optional sep keyword argument sets the string used to separate strings\n",
    "    (default is space.)\n",
    "    \"\"\"\n",
    "    return s1 + sep + s2\n",
    "\n",
    "lang = \"Python\"\n",
    "ver = \"3.10\"\n",
    "\n",
    "print(f\"{concat(lang, ver) = }\")\n",
    "print(f\"{concat(lang, ver, sep='__') = }\")"
   ]
  },
  {
   "cell_type": "code",
   "execution_count": 25,
   "id": "6684013a",
   "metadata": {
    "slideshow": {
     "slide_type": "subslide"
    }
   },
   "outputs": [
    {
     "name": "stdout",
     "output_type": "stream",
     "text": [
      "concat(first, last) = 'Edgar Poe'\n",
      "concat(first, middle, last) = 'Edgar Allen Poe'\n",
      "concat(first, middle, last, first, middle, last) = 'Edgar Allen Poe Edgar Allen Poe'\n"
     ]
    }
   ],
   "source": [
    "# concat with *args (variable number of input strings)\n",
    "def concat(*args, sep=\" \"):\n",
    "    \"\"\"Concatenates and returns all strings in *args with a space separator.\n",
    "    Optional sep keyword argument sets the string used to separate strings\n",
    "    (default is space.)\n",
    "    \"\"\"\n",
    "    return sep.join(args)    # str.join method\n",
    "\n",
    "first = \"Edgar\"\n",
    "middle = \"Allen\"\n",
    "last = \"Poe\"\n",
    "\n",
    "print(f\"{concat(first, last) = }\")\n",
    "print(f\"{concat(first, middle, last) = }\")\n",
    "print(f\"{concat(first, middle, last, first, middle, last) = }\")"
   ]
  },
  {
   "cell_type": "markdown",
   "id": "9512399a",
   "metadata": {
    "slideshow": {
     "slide_type": "subslide"
    }
   },
   "source": [
    "## Functions are Objects\n",
    "- In Python, functions are objects\n",
    "- functions can be passed to other functions by name"
   ]
  },
  {
   "cell_type": "code",
   "execution_count": 26,
   "id": "87f14049",
   "metadata": {},
   "outputs": [
    {
     "name": "stdout",
     "output_type": "stream",
     "text": [
      "concat(lang, ver) = 'Python 3.10'\n",
      "concat(lang, ver, fun=str.upper) = 'PYTHON 3.10'\n"
     ]
    }
   ],
   "source": [
    "# concat with optional separator (sep) kwarg\n",
    "def concat(s1, s2, sep=\" \", fun=str):\n",
    "    \"\"\"Concatenates and returns strings s1 and s2 with a space separator.\n",
    "    \n",
    "    - Optional sep keyword argument sets the string used to separate strings\n",
    "    (default is space.)\n",
    "    \n",
    "    - Optional fun keyword argument sets the function applied to each string.\n",
    "    \"\"\"\n",
    "    return fun(s1) + sep + fun(s2)\n",
    "\n",
    "lang = \"Python\"\n",
    "ver = \"3.10\"\n",
    "\n",
    "print(f\"{concat(lang, ver) = }\")\n",
    "print(f\"{concat(lang, ver, fun=str.upper) = }\")"
   ]
  },
  {
   "cell_type": "markdown",
   "id": "bfe44f70",
   "metadata": {
    "slideshow": {
     "slide_type": "subslide"
    }
   },
   "source": [
    "## Functions with no return value\n",
    "- Functions with no explicit `return` statement return `None`\n",
    "- The builtin `print()` function doesn't return anything\n",
    "- Functions that return `None` all the time typically produce only *side effects*"
   ]
  },
  {
   "cell_type": "code",
   "execution_count": 27,
   "id": "c561821f",
   "metadata": {},
   "outputs": [
    {
     "name": "stdout",
     "output_type": "stream",
     "text": [
      "What does print return?\n",
      "ret_value = None\n"
     ]
    }
   ],
   "source": [
    "ret_value = print('What does print return?')\n",
    "print(f\"{ret_value = }\")"
   ]
  },
  {
   "cell_type": "markdown",
   "id": "fbe12286",
   "metadata": {
    "slideshow": {
     "slide_type": "subslide"
    }
   },
   "source": [
    "## Example Function with no return value\n",
    "- Functions that produce side-effects are useful in many situations\n",
    "- A common use case is logging / printing"
   ]
  },
  {
   "cell_type": "code",
   "execution_count": 28,
   "id": "a09063eb",
   "metadata": {},
   "outputs": [
    {
     "name": "stderr",
     "output_type": "stream",
     "text": [
      "ERROR: Fake ERROR message.\n",
      "INFO: log_progress called\n"
     ]
    }
   ],
   "source": [
    "import sys\n",
    "def log_progress(level=\"INFO\", msg=\"log_progress called\"):\n",
    "    \"\"\"Logs level: msg to stderr\"\"\"\n",
    "    print(f\"{level}: {msg}\", file=sys.stderr)\n",
    "    \n",
    "log_progress(level=\"ERROR\", msg=\"Fake ERROR message.\")\n",
    "log_progress()"
   ]
  },
  {
   "cell_type": "markdown",
   "id": "fe73e13f",
   "metadata": {
    "slideshow": {
     "slide_type": "subslide"
    }
   },
   "source": [
    "## Function Use Cases\n",
    "- Use to encapsulate code you use repeatedly\n",
    "    - this standardizes the operations (reduces error)\n",
    "- If you find yourself copying and pasting code, use a function instead."
   ]
  }
 ],
 "metadata": {
  "celltoolbar": "Slideshow",
  "kernelspec": {
   "display_name": "Python 3 (ipykernel)",
   "language": "python",
   "name": "python3"
  },
  "language_info": {
   "codemirror_mode": {
    "name": "ipython",
    "version": 3
   },
   "file_extension": ".py",
   "mimetype": "text/x-python",
   "name": "python",
   "nbconvert_exporter": "python",
   "pygments_lexer": "ipython3",
   "version": "3.10.0"
  },
  "toc": {
   "base_numbering": 1,
   "nav_menu": {},
   "number_sections": false,
   "sideBar": true,
   "skip_h1_title": false,
   "title_cell": "Table of Contents",
   "title_sidebar": "Contents",
   "toc_cell": false,
   "toc_position": {
    "height": "calc(100% - 180px)",
    "left": "10px",
    "top": "150px",
    "width": "222.390625px"
   },
   "toc_section_display": true,
   "toc_window_display": false
  }
 },
 "nbformat": 4,
 "nbformat_minor": 5
}
