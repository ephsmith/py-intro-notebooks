{
 "cells": [
  {
   "cell_type": "markdown",
   "id": "15f886ad",
   "metadata": {},
   "source": [
    "# List Comprehensions\n",
    "- Simple list comprehensions\n",
    "- Conditions in list comprehensions--2 types\n",
    "    - conditions that filter\n",
    "    - conditions that modify the value of newly generated elements\n",
    "- Nested list comprehensions"
   ]
  },
  {
   "cell_type": "markdown",
   "id": "40d50218",
   "metadata": {},
   "source": [
    "## Simple List Comprehension\n",
    "List comprehensions create lists from an input sequence / iterable. The following `for` loop uses output of `range()` to generate a list of *odd* numbers. "
   ]
  },
  {
   "cell_type": "code",
   "execution_count": 3,
   "id": "c0e69d0e",
   "metadata": {},
   "outputs": [
    {
     "name": "stdout",
     "output_type": "stream",
     "text": [
      "[1, 3, 5, 7, 9, 11, 13, 15, 17, 19]\n"
     ]
    }
   ],
   "source": [
    "N = 10\n",
    "odd_nums = []   # initialize empty list\n",
    "\n",
    "for n in range(N):\n",
    "    odd_nums.append(2*n + 1)\n",
    "\n",
    "print(odd_nums)"
   ]
  },
  {
   "cell_type": "markdown",
   "id": "b1c74464",
   "metadata": {},
   "source": [
    "The `for` loop approach to this problem requires initialization of an empty list prior to the loop. List comprehensions provide a simplified syntax, making it possible to initialize and iterate within a single Python statement. "
   ]
  },
  {
   "cell_type": "code",
   "execution_count": 4,
   "id": "86be004f",
   "metadata": {},
   "outputs": [
    {
     "name": "stdout",
     "output_type": "stream",
     "text": [
      "[1, 3, 5, 7, 9, 11, 13, 15, 17, 19]\n"
     ]
    }
   ],
   "source": [
    "odd_nums = [2*n + 1 for n in range(N)]\n",
    "print(odd_nums)"
   ]
  },
  {
   "cell_type": "markdown",
   "id": "a5a21838",
   "metadata": {},
   "source": [
    "# Conditions in List Comprehensions\n",
    "There are two type of conditions that can be used in list comprehensions.\n",
    "- conditions that filter out elements of the source iterable (conditions at the end of the comprehension)\n",
    "- conditions at the beginning of the comprehension control how the values in the new list are assigned"
   ]
  },
  {
   "cell_type": "markdown",
   "id": "5c395240",
   "metadata": {},
   "source": [
    "## Conditions at the End of the Comprehension\n",
    "Comprehensions are driven by a source iterable. Elements of this source iterable can be filtered by including an `if` condition at the *end* of the comprehension. The following comprehension loops over *all* elements of the source iterable, including only *odd* numbers in the new list."
   ]
  },
  {
   "cell_type": "code",
   "execution_count": null,
   "id": "c5e1ef51",
   "metadata": {},
   "outputs": [],
   "source": [
    "odd_nums = [n for n in range(2*N) if n % 2 == 1]\n",
    "print(odd_nums)"
   ]
  },
  {
   "cell_type": "markdown",
   "id": "18bf2285",
   "metadata": {},
   "source": [
    "## Conditions at the Beginning of the Comprehension\n",
    "Conditions at the beginning of a comprehension require some discussion about [*ternary expressions*](https://book.pythontips.com/en/latest/ternary_operators.html#ternary-operators).  \n",
    "\n",
    "### Ternary Expressions\n",
    "Python does not include a special ternary operator like other languages. Ternary expressions in Python leverage the `if-else` pattern.  Here's the blueprint:\n",
    "\n",
    "```python\n",
    "value_if_true if condition else value_if_false\n",
    "```\n",
    "Ternary expressions can be used anywhere in a Python program. But they are especially useful in conditionally modifying values of an input list in comprehensions.\n",
    "\n",
    "Consider the case of labelling `odd` and `even` numbers with categorical labels `E` for even and `O` for odd.  The following list comprehension accomplishes this with a condition (ternary expression) at the beginning of the comprehension. "
   ]
  },
  {
   "cell_type": "code",
   "execution_count": 6,
   "id": "5e61491b",
   "metadata": {},
   "outputs": [
    {
     "name": "stdout",
     "output_type": "stream",
     "text": [
      "['E', 'O', 'E', 'O', 'E', 'O', 'E', 'O', 'E', 'O']\n"
     ]
    }
   ],
   "source": [
    "labeled_nums = ['O' if n % 2 else 'E' for n in range(N)]\n",
    "print(labeled_nums)"
   ]
  },
  {
   "cell_type": "markdown",
   "id": "3716a304",
   "metadata": {},
   "source": [
    "# Nested List Comprehensions\n",
    "Nested list comprehensions can be used to generate multidimensional lists.  Note that in a doubly nested comprehension the second `for` expression is evaluated for every iteration of the *first* `for` expression."
   ]
  },
  {
   "cell_type": "code",
   "execution_count": 7,
   "id": "3f2aee3b",
   "metadata": {},
   "outputs": [
    {
     "name": "stdout",
     "output_type": "stream",
     "text": [
      "[[0, 0], [0, 1], [0, 2], [1, 0], [1, 1], [1, 2]]\n"
     ]
    }
   ],
   "source": [
    "nums = [[j, k] for j in range(2) for k in range(3)]\n",
    "print(nums)"
   ]
  },
  {
   "cell_type": "markdown",
   "id": "6d218534",
   "metadata": {},
   "source": [
    "# Formatting Comprehensions\n",
    "Newlines and additional spaces inside `()`, `{}`, and `[]` are ignored by the Python interpreter. Leverage newlines to make comprehensions more readable for lengthy expressions. The following demonstrates a typical pattern for nested comprehensions."
   ]
  },
  {
   "cell_type": "code",
   "execution_count": 8,
   "id": "6d2a73ae",
   "metadata": {},
   "outputs": [
    {
     "name": "stdout",
     "output_type": "stream",
     "text": [
      "[[0, 0], [0, 1], [0, 2], [1, 0], [1, 1], [1, 2]]\n"
     ]
    }
   ],
   "source": [
    "nums = [\n",
    "    [j, k] for j in range(2)\n",
    "           for k in range(3)\n",
    "]\n",
    "print(nums)"
   ]
  },
  {
   "cell_type": "code",
   "execution_count": null,
   "id": "9e2c387c",
   "metadata": {},
   "outputs": [],
   "source": []
  }
 ],
 "metadata": {
  "kernelspec": {
   "display_name": "Python 3 (ipykernel)",
   "language": "python",
   "name": "python3"
  },
  "language_info": {
   "codemirror_mode": {
    "name": "ipython",
    "version": 3
   },
   "file_extension": ".py",
   "mimetype": "text/x-python",
   "name": "python",
   "nbconvert_exporter": "python",
   "pygments_lexer": "ipython3",
   "version": "3.10.0"
  },
  "toc": {
   "base_numbering": 1,
   "nav_menu": {},
   "number_sections": false,
   "sideBar": true,
   "skip_h1_title": false,
   "title_cell": "Table of Contents",
   "title_sidebar": "Contents",
   "toc_cell": false,
   "toc_position": {},
   "toc_section_display": true,
   "toc_window_display": false
  }
 },
 "nbformat": 4,
 "nbformat_minor": 5
}
